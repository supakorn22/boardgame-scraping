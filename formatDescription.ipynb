{
 "cells": [
  {
   "cell_type": "code",
   "execution_count": 4,
   "id": "c1a8a663",
   "metadata": {},
   "outputs": [],
   "source": [
    "import csv\n",
    "import ast\n",
    "import os\n",
    "import re"
   ]
  },
  {
   "cell_type": "code",
   "execution_count": 35,
   "id": "05988401",
   "metadata": {},
   "outputs": [],
   "source": [
    "fullboardgames = []\n",
    "with open('full_boardgames.csv', 'r', newline='', encoding='utf-8') as csvfile:\n",
    "    reader = csv.DictReader(csvfile)\n",
    "    for row in reader:\n",
    "        fullboardgames.append(row)"
   ]
  },
  {
   "cell_type": "code",
   "execution_count": 36,
   "id": "0fdf72eb",
   "metadata": {},
   "outputs": [
    {
     "name": "stdout",
     "output_type": "stream",
     "text": [
      "[SET] หนังสือเกม เชอร์ล็อกโฮล์ม ครบ 3 เล่ม\n",
      "[SET] อิโนริ + Superstore 3000\n",
      "[SET] คู่สถานีถัดไป ลอนดอน + โตเกียว\n",
      "[SET] เกมเกาะภูตพิทักษ์ + โปรโมการ์ด\n",
      "[SET] คู่ปีกปักษา + แผ่นผู้เล่นx2\n",
      "[SET] หมาป่า Extreme + หมาป่า One Night\n",
      "[SET] ฟาร์แลนด์ + คิวบิค\n",
      "[SET] อย่าซ่ากับบอส + อย่าซ่ากับปืน\n"
     ]
    }
   ],
   "source": [
    "for row in fullboardgames:\n",
    "    if row['full_description'] == '[]':\n",
    "        print(row['name'])"
   ]
  },
  {
   "cell_type": "code",
   "execution_count": null,
   "id": "6451a432",
   "metadata": {},
   "outputs": [
    {
     "name": "stdout",
     "output_type": "stream",
     "text": [
      "Individual text files created in 'boardgame_text/1' directory.\n"
     ]
    },
    {
     "ename": "",
     "evalue": "",
     "output_type": "error",
     "traceback": [
      "\u001b[1;31mThe Kernel crashed while executing code in the current cell or a previous cell. \n",
      "\u001b[1;31mPlease review the code in the cell(s) to identify a possible cause of the failure. \n",
      "\u001b[1;31mClick <a href='https://aka.ms/vscodeJupyterKernelCrash'>here</a> for more info. \n",
      "\u001b[1;31mView Jupyter <a href='command:jupyter.viewOutput'>log</a> for further details."
     ]
    }
   ],
   "source": [
    "# Input CSV file\n",
    "csv_file = 'full_boardgames.csv'\n",
    "# Output directory for individual text files\n",
    "output_dir = 'boardgame_text/1'\n",
    "os.makedirs(output_dir, exist_ok=True)\n",
    "\n",
    "# Function to clean filenames\n",
    "def safe_filename(name):\n",
    "    return re.sub(r'[\\\\/*?:\"<>|]', \"\", name)\n",
    "\n",
    "# Define the template for each entry\n",
    "def format_entry(data):\n",
    "    return f\"\"\"Title: {data['name']}\n",
    "Meta data: {data['small_description']}\n",
    "Original price: {data['price']}\n",
    "Discount price: {data['sale price']}\n",
    "Additional price: {data['add-on_price']}\n",
    "URL: {data['url']}\n",
    "Content: {' '.join(ast.literal_eval(data['full_description']))}\n",
    "Additional Info: {'; '.join([f\"{k}: {v}\" for k, v in ast.literal_eval(data['additional_info'])])}\n",
    "Box Contents: {', '.join(ast.literal_eval(data['box_contents']))}\n",
    "Sleeve Contents: {', '.join(ast.literal_eval(data['sleeve_contents'])) if data['sleeve_contents'] else ''}\n",
    "\"\"\"\n",
    "\n",
    "with open(csv_file, newline='', encoding='utf-8') as f:\n",
    "    reader = csv.DictReader(f)\n",
    "    for row in reader:\n",
    "        if row['name'].startswith('[SET]'):\n",
    "            continue            \n",
    "        filename = safe_filename(row['name']) + '.txt'\n",
    "        content = format_entry(row)\n",
    "        with open(os.path.join(output_dir, filename), 'w', encoding='utf-8') as out_file:\n",
    "            out_file.write(content)\n",
    "\n",
    "print(f\"Individual text files created in '{output_dir}' directory.\")"
   ]
  }
 ],
 "metadata": {
  "kernelspec": {
   "display_name": ".venv",
   "language": "python",
   "name": "python3"
  },
  "language_info": {
   "codemirror_mode": {
    "name": "ipython",
    "version": 3
   },
   "file_extension": ".py",
   "mimetype": "text/x-python",
   "name": "python",
   "nbconvert_exporter": "python",
   "pygments_lexer": "ipython3",
   "version": "3.11.11"
  }
 },
 "nbformat": 4,
 "nbformat_minor": 5
}
