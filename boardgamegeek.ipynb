{
 "cells": [
  {
   "cell_type": "code",
   "execution_count": 14,
   "id": "1ac58e0f",
   "metadata": {},
   "outputs": [],
   "source": [
    "import csv\n",
    "from googlesearch import search\n"
   ]
  },
  {
   "cell_type": "code",
   "execution_count": 4,
   "id": "0195c458",
   "metadata": {},
   "outputs": [],
   "source": [
    "fullboardgames = []\n",
    "with open('full_boardgames.csv', 'r', newline='', encoding='utf-8') as csvfile:\n",
    "    reader = csv.DictReader(csvfile)\n",
    "    for row in reader:\n",
    "        fullboardgames.append(row)"
   ]
  },
  {
   "cell_type": "code",
   "execution_count": null,
   "id": "2934bef5",
   "metadata": {},
   "outputs": [],
   "source": [
    "fullboardgames  = [ boardgame for boardgame in fullboardgames if boardgame['name'].startswith('[set]') ]"
   ]
  },
  {
   "cell_type": "code",
   "execution_count": 12,
   "id": "8a3a004b",
   "metadata": {},
   "outputs": [],
   "source": [
    "english_names = []\n",
    "for boardgame in fullboardgames:\n",
    "    english_name = boardgame['url'].rstrip('/').split('/')[-1]\n",
    "    english_names.append(english_name)"
   ]
  },
  {
   "cell_type": "code",
   "execution_count": 13,
   "id": "fb83cf9a",
   "metadata": {},
   "outputs": [
    {
     "data": {
      "text/plain": [
       "['rumble-nation',\n",
       " 'nyaice-code',\n",
       " 'love-letter-2025',\n",
       " 'exploding-kittens-burglar-th',\n",
       " 'shadow-house',\n",
       " 'werewolf-extreme',\n",
       " 'superstore-3000',\n",
       " 'get-bit',\n",
       " 'book-sherlock-holmes-moriarty-associates',\n",
       " 'wyrmspan-th',\n",
       " 'inori',\n",
       " 'ramen-extreme',\n",
       " 'splendor-2024',\n",
       " 'monster-eater-dungeon-meshi-th',\n",
       " 'next-station-tokyo',\n",
       " 'next-station-london',\n",
       " 'art-society',\n",
       " 'cash-n-gun',\n",
       " '7-wonders-architects',\n",
       " 'book-sherlock-holmes-shadows-of-jack-ripper',\n",
       " 'farland',\n",
       " 'power-hungry-pets',\n",
       " 'sanctum-of-twilight',\n",
       " 'qubik-th',\n",
       " 'bubbly',\n",
       " 'cat-in-the-box',\n",
       " 'wingspan-asia-expansion',\n",
       " 'usagyuuun-crossing-th-en',\n",
       " 'usagyuuun-coup-th',\n",
       " 'bandido',\n",
       " 'mada',\n",
       " 'papageno',\n",
       " 'exploding-minions',\n",
       " 'bloody-inn-carnies',\n",
       " 'bloody-inn',\n",
       " 'micro-macro-crime-city-full-house',\n",
       " 'dobble-minion',\n",
       " 'kingdomino-origin',\n",
       " 'micro-macro-crime-city',\n",
       " 'betakkuma-fart-furious',\n",
       " 'gloomhaven-jaw-of-the-lion',\n",
       " 'tucano-th',\n",
       " 'friday',\n",
       " 'telestrations',\n",
       " 'project-l',\n",
       " 'travel-checkers',\n",
       " 'travel-reversi',\n",
       " 'travel-ludo',\n",
       " 'skull',\n",
       " 'feelink',\n",
       " 'sriracha',\n",
       " 'exploding-kitten-party-pack',\n",
       " 'unlock',\n",
       " 'toc-toc-woodman',\n",
       " 'taco-cat-goat-chess-pizza',\n",
       " 'wingspan-oceania-expansion',\n",
       " 'coconut',\n",
       " 'point-salad',\n",
       " 'book-captive',\n",
       " 'fallout-shulter',\n",
       " 'tikal',\n",
       " 'who-did-it',\n",
       " 'love-letter-th-2019',\n",
       " 'keyforge-mass-mutation-decks',\n",
       " 'tea-for-2',\n",
       " 'book-knight-th',\n",
       " 'go-town',\n",
       " 'ticket-to-ride-new-york',\n",
       " 'wingspan-european-expansion',\n",
       " 'king-of-tokyo-power-up',\n",
       " 'tm-turmoil',\n",
       " 'ultimate-werewolf-expansion',\n",
       " 'one-night-daybreak',\n",
       " 'book-sherlock-holmes-four-investigations',\n",
       " 'power-grid-recharged',\n",
       " 'tiny-epic-tactics',\n",
       " 'hedgehog-roll',\n",
       " 'im-the-boss',\n",
       " 'keyforge-worlds-collide-decks',\n",
       " 'keyforge-worlds-collide-deluxe',\n",
       " 'dobble',\n",
       " 'travel-tic-tac-toe-connect-4',\n",
       " 'travel-tangram',\n",
       " 'travel-snakes',\n",
       " 'travel-secret-code',\n",
       " 'travel-chess',\n",
       " 'travel-battle-fleet',\n",
       " 'zombie-kidz',\n",
       " 'little-town',\n",
       " 'wallet',\n",
       " 'dead-of-winter',\n",
       " 'wingspan',\n",
       " 'winston',\n",
       " 'kariba',\n",
       " 'forest',\n",
       " 'salem-1692',\n",
       " 'rorys-story-cubes',\n",
       " 'keyforge-age-of-ascension-2p-starter',\n",
       " 'keyforge-age-of-ascension-decks',\n",
       " 'tm-venus-next',\n",
       " 'tm-prelude',\n",
       " 'tm-hellas-elysium',\n",
       " 'tm-colonies',\n",
       " 'slide-quest',\n",
       " 'pengoloo',\n",
       " '7-wonders-duel',\n",
       " 'game-of-throne',\n",
       " 'colt-express',\n",
       " '8-bit-box',\n",
       " 'for-sale',\n",
       " 'incan-gold',\n",
       " 'exploding-kitten',\n",
       " 'chinatown',\n",
       " 'down-force',\n",
       " 'get-packing',\n",
       " 'fearsome-floor',\n",
       " 'dream-on',\n",
       " 'when-i-dream',\n",
       " '7-wonders',\n",
       " 'pandemic',\n",
       " 'king-of-tokyo',\n",
       " 'citadels-classicth',\n",
       " 'coup',\n",
       " 'bloodbound',\n",
       " 'photosynthesis',\n",
       " 'sheriff-of-nottingham',\n",
       " 'ultimate-werewolf-deluxe',\n",
       " 'one-night-ultimate-werewolf',\n",
       " 'ticket-to-ride',\n",
       " 'small-world',\n",
       " 'hand-of-the-king',\n",
       " 'love-letter',\n",
       " 'power-grid',\n",
       " 'jaipur',\n",
       " 'splendor']"
      ]
     },
     "execution_count": 13,
     "metadata": {},
     "output_type": "execute_result"
    }
   ],
   "source": [
    "english_names"
   ]
  },
  {
   "cell_type": "code",
   "execution_count": 23,
   "id": "6ed15ff7",
   "metadata": {},
   "outputs": [
    {
     "data": {
      "text/plain": [
       "<generator object search at 0x000002427E8F7100>"
      ]
     },
     "execution_count": 23,
     "metadata": {},
     "output_type": "execute_result"
    }
   ],
   "source": [
    "query = \"site:boardgamegeek.com cat-in-the-box\"\n",
    "search(query, num_results=1)\n"
   ]
  },
  {
   "cell_type": "code",
   "execution_count": 17,
   "id": "5396cd72",
   "metadata": {},
   "outputs": [
    {
     "data": {
      "text/plain": [
       "36"
      ]
     },
     "execution_count": 17,
     "metadata": {},
     "output_type": "execute_result"
    }
   ],
   "source": [
    "len('https://boardgamegeek.com/boardgame/')"
   ]
  },
  {
   "cell_type": "code",
   "execution_count": null,
   "id": "f56826b2",
   "metadata": {},
   "outputs": [
    {
     "ename": "TypeError",
     "evalue": "'generator' object is not subscriptable",
     "output_type": "error",
     "traceback": [
      "\u001b[31m---------------------------------------------------------------------------\u001b[39m",
      "\u001b[31mTypeError\u001b[39m                                 Traceback (most recent call last)",
      "\u001b[36mCell\u001b[39m\u001b[36m \u001b[39m\u001b[32mIn[18]\u001b[39m\u001b[32m, line 4\u001b[39m\n\u001b[32m      2\u001b[39m \u001b[38;5;28;01mfor\u001b[39;00m boardgame_name \u001b[38;5;129;01min\u001b[39;00m english_names:\n\u001b[32m      3\u001b[39m     query = \u001b[33mf\u001b[39m\u001b[33m\"\u001b[39m\u001b[33msite:boardgamegeek.com \u001b[39m\u001b[38;5;132;01m{\u001b[39;00mboardgame_name\u001b[38;5;132;01m}\u001b[39;00m\u001b[33m\"\u001b[39m\n\u001b[32m----> \u001b[39m\u001b[32m4\u001b[39m     result = \u001b[43msearch\u001b[49m\u001b[43m(\u001b[49m\u001b[43mquery\u001b[49m\u001b[43m,\u001b[49m\u001b[43m \u001b[49m\u001b[43mnum_results\u001b[49m\u001b[43m=\u001b[49m\u001b[32;43m1\u001b[39;49m\u001b[43m)\u001b[49m\u001b[43m[\u001b[49m\u001b[32;43m0\u001b[39;49m\u001b[43m]\u001b[49m\n\u001b[32m      5\u001b[39m     \u001b[38;5;28;01mif\u001b[39;00m result.startswith(\u001b[33m\"\u001b[39m\u001b[33mhttps://boardgamegeek.com/boardgame/\u001b[39m\u001b[33m\"\u001b[39m):\n\u001b[32m      6\u001b[39m         boardgame_id = result[\u001b[32m36\u001b[39m:].split(\u001b[33m'\u001b[39m\u001b[33m/\u001b[39m\u001b[33m'\u001b[39m)[\u001b[32m0\u001b[39m]\n",
      "\u001b[31mTypeError\u001b[39m: 'generator' object is not subscriptable"
     ]
    }
   ],
   "source": [
    "boardgame_ids = []\n",
    "for boardgame_name in english_names:\n",
    "    query = f\"site:boardgamegeek.com {boardgame_name}\"\n",
    "    results = list(search(query, num_results=1))  # Convert generator to list\n",
    "    if results and results[0].startswith(\"https://boardgamegeek.com/boardgame/\"):\n",
    "        boardgame_id = results[0][36:].split('/')[0]\n",
    "        boardgame_ids.append(boardgame_id)\n",
    "        print(f'{boardgame_name} -> {boardgame_id}')\n",
    "    else:\n",
    "        print(f'No result found for {boardgame_name}')"
   ]
  }
 ],
 "metadata": {
  "kernelspec": {
   "display_name": ".venv",
   "language": "python",
   "name": "python3"
  },
  "language_info": {
   "codemirror_mode": {
    "name": "ipython",
    "version": 3
   },
   "file_extension": ".py",
   "mimetype": "text/x-python",
   "name": "python",
   "nbconvert_exporter": "python",
   "pygments_lexer": "ipython3",
   "version": "3.11.11"
  }
 },
 "nbformat": 4,
 "nbformat_minor": 5
}
