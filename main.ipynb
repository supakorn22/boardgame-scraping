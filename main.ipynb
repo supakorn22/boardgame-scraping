{
 "cells": [
  {
   "cell_type": "code",
   "execution_count": null,
   "id": "84ef3d9e",
   "metadata": {},
   "outputs": [],
   "source": [
    "print('let me out')"
   ]
  }
 ],
 "metadata": {
  "kernelspec": {
   "display_name": ".venv",
   "language": "python",
   "name": "python3"
  },
  "language_info": {
   "name": "python",
   "version": "3.11.11"
  }
 },
 "nbformat": 4,
 "nbformat_minor": 5
}
